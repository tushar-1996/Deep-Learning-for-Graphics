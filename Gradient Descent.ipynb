{
  "nbformat": 4,
  "nbformat_minor": 0,
  "metadata": {
    "accelerator": "GPU",
    "colab": {
      "name": "DL4GV_Ex1_Gradient_Descent.ipynb",
      "provenance": [],
      "collapsed_sections": []
    },
    "kernelspec": {
      "display_name": "Python 3",
      "language": "python",
      "name": "python3"
    },
    "language_info": {
      "codemirror_mode": {
        "name": "ipython",
        "version": 3
      },
      "file_extension": ".py",
      "mimetype": "text/x-python",
      "name": "python",
      "nbconvert_exporter": "python",
      "pygments_lexer": "ipython3",
      "version": "3.8.3"
    }
  },
  "cells": [
    {
      "cell_type": "markdown",
      "metadata": {
        "id": "5k9OdX-pOcTo"
      },
      "source": [
        "# Assignment 1: Gradient Descent"
      ]
    },
    {
      "cell_type": "markdown",
      "metadata": {
        "id": "iog2cBflgAbf"
      },
      "source": [
        "## Given"
      ]
    },
    {
      "cell_type": "code",
      "metadata": {
        "id": "PosRRy0hOcTp"
      },
      "source": [
        "import numpy as np\n",
        "import matplotlib.pyplot as plt\n",
        "\n",
        "%matplotlib inline"
      ],
      "execution_count": 1,
      "outputs": []
    },
    {
      "cell_type": "code",
      "metadata": {
        "id": "fWuPHlkcgCto"
      },
      "source": [
        "def func(x):\n",
        "    ''' The function to do gradient descent on. '''\n",
        "    return (x-1)**2*(x-2)*(x+1)\n",
        "\n",
        "def plot_gradient_descent(f,gx, annotate):\n",
        "    ''' Plots the function f an the path that is traversed during gradient descent\n",
        "    Args:\n",
        "        f: The function\n",
        "        gx: An array of all x values [x_init, x1, x2, ... xNumSteps]\n",
        "        annotate: A boolean to enable / disable annotations\n",
        "    '''\n",
        "    if gx.max() > 3.0 or gx.min() < -1.5:\n",
        "        print('Some x values are out of plotting range! They are clipped to (-1.5, 3.0) in the plot.')\n",
        "        gx = np.clip(gx, -1.5, 3.0)\n",
        "    x = np.linspace(-1,2.5,200)\n",
        "    plt.figure(figsize=(11,4))\n",
        "    plt.axis([-1.2, 2.7, -3.2, 4.2])\n",
        "    plt.plot(x, f(x),'b-',label='f(x)')\n",
        "    plt.plot(gx, f(gx),'ro--',label='iterations')\n",
        "    plt.grid(True)\n",
        "    plt.title('Gradient Descent Steps', fontsize=14)\n",
        "    plt.legend(loc='upper left', fontsize=14)\n",
        "    if annotate:\n",
        "        for i, xy in enumerate(zip(gx, f(gx)+0.4)):\n",
        "            plt.annotate('%s' % i, xy=xy, textcoords='data', color='r')"
      ],
      "execution_count": 2,
      "outputs": []
    },
    {
      "cell_type": "markdown",
      "metadata": {
        "id": "5NBbvZO7ocAn"
      },
      "source": [
        "## Exercise 1: Basic Gradient Descent (7 points)"
      ]
    },
    {
      "cell_type": "markdown",
      "metadata": {
        "id": "vugfGt4WOcTu"
      },
      "source": [
        "### 1. Implement numerical derivative (2 points)\n",
        "First start by creating a function that computes the numerical derivative of a given one dimensional python function using central differences.\n",
        "\n",
        "Implement the difference quotient\n",
        "$$ \\frac{\\partial f}{\\partial x}  = \\frac{f(x+\\epsilon)-f(x-\\epsilon)}{2\\epsilon}.$$\n",
        "Use $\\epsilon=1e-6$. $f$ is given by `func()`."
      ]
    },
    {
      "cell_type": "code",
      "metadata": {
        "id": "mI4rX7yy7aTZ"
      },
      "source": [
        "def derivative(f, x, eps = 1e-6):\n",
        "    '''\n",
        "    Computes the numerical derivative of f at x using central differences\n",
        "\n",
        "    Arguments:\n",
        "    f --  A callable python one dimensional function.\n",
        "    x -- A float\n",
        "\n",
        "    Returns:\n",
        "    grad - A float\n",
        "    '''\n",
        "    num=(f(x+eps)-f(x-eps))/(2*eps)\n",
        "    return num\n",
        "    pass # this does nothing. its just here because empty function bodies are invalid syntax."
      ],
      "execution_count": 3,
      "outputs": []
    },
    {
      "cell_type": "code",
      "metadata": {
        "id": "7mnzqm5t8PnM",
        "outputId": "83c05df2-1380-4ab1-a8b9-ad67e6e0a58c",
        "colab": {
          "base_uri": "https://localhost:8080/"
        }
      },
      "source": [
        "derivative(func,0.0)"
      ],
      "execution_count": null,
      "outputs": [
        {
          "output_type": "execute_result",
          "data": {
            "text/plain": [
              "3.000000000086267"
            ]
          },
          "metadata": {
            "tags": []
          },
          "execution_count": 77
        }
      ]
    },
    {
      "cell_type": "markdown",
      "metadata": {
        "id": "5v6N9QkS8eQ8"
      },
      "source": [
        "**Expected Output**:\n",
        "\n",
        "`3.000000000086267`"
      ]
    },
    {
      "cell_type": "markdown",
      "metadata": {
        "id": "CQ6SBf786QUU"
      },
      "source": [
        "### 2. Implement gradient descent (3 points)\n",
        "Build a function that performs gradient descent for 20 steps on function $f$ at starting position $x_{init}$.\\\n",
        " **Mathematical Expression**:\n",
        "\n",
        "$$ x_i = x_{i-1} - \\eta\\cdot g $$"
      ]
    },
    {
      "cell_type": "code",
      "metadata": {
        "id": "nFslUf83OcTv"
      },
      "source": [
        "def gradient_descent(f, init_x, learning_rate, num_steps= 20, annotate=False):\n",
        "    '''\n",
        "    Performs gradient descent and plots the results\n",
        "    \n",
        "    Arguments:\n",
        "    f --  A callable python one dimensionalfunction.\n",
        "    init_x -- A scalar, starting point for gradient descent.\n",
        "    learning_rate -- A scalar, parameter of gradient descent (eta).\n",
        "    num_steps -- An int, number of update steps.\n",
        "    annotate -- A bool, switches annotations in the plot on or off.\n",
        "    \n",
        "    Return:\n",
        "    x -- A scalar, result of the gradient descent\n",
        "    '''\n",
        "\n",
        "    # Use the plot_gradient_descent() function for plots.\n",
        "    ar=[init_x]\n",
        "    for i in range(1,num_steps+1):\n",
        "      ar.insert(i,ar[i-1]-(learning_rate*derivative(f,ar[i-1])))\n",
        "    \n",
        "    plot_gradient_descent(f,np.array(ar),annotate)\n",
        "    return ar\n",
        "\n",
        "    pass"
      ],
      "execution_count": 4,
      "outputs": []
    },
    {
      "cell_type": "markdown",
      "metadata": {
        "id": "3_950UwcOcTy"
      },
      "source": [
        "### 3. Investigate the behavior (2 points)\n",
        "Try your program with different learning rates (`0.01` , `0.05` , `0.2` , `0.25` , `0.4`) and starting points (`0.0` , `1.0`, `1.5`, `2.2`).\n",
        "Do we always reach the global minimum? Explain the behavior you observe.\n"
      ]
    },
    {
      "cell_type": "markdown",
      "metadata": {
        "id": "jOzKWWlq_RRy"
      },
      "source": [
        "For starting point 0.0, learning rate above 0.5 is not able to converge at global minina.\n",
        "\n",
        "For starting point 1.0, it dosen't move as it is at local maxima.\n",
        "\n",
        "For starting point 1.5, it is not able to converge at global minima.\n",
        "\n",
        "For starting point 2.2, it is not able to converge at global minima.\n",
        "\n",
        "On keeping the learning the rate constant and varying the initial positions, the conclusion was that the initial position plays a more important role than learning rate."
      ]
    },
    {
      "cell_type": "code",
      "metadata": {
        "id": "t8dmznxhOcT0",
        "outputId": "14a61f4c-24d1-4b03-f701-50815d765250",
        "colab": {
          "base_uri": "https://localhost:8080/",
          "height": 656
        }
      },
      "source": [
        "gradient_descent(func,2.2,0.35)\n"
      ],
      "execution_count": 15,
      "outputs": [
        {
          "output_type": "stream",
          "text": [
            "Some x values are out of plotting range! They are clipped to (-1.5, 3.0) in the plot.\n"
          ],
          "name": "stdout"
        },
        {
          "output_type": "execute_result",
          "data": {
            "text/plain": [
              "[2.2,\n",
              " -0.051200000311093063,\n",
              " -1.0569145591215818,\n",
              " 3.8045952214716054,\n",
              " -31.41237346022339,\n",
              " 46491.80921453484,\n",
              " -140681139153508.17,\n",
              " -140681139153508.17,\n",
              " -140681139153508.17,\n",
              " -140681139153508.17,\n",
              " -140681139153508.17,\n",
              " -140681139153508.17,\n",
              " -140681139153508.17,\n",
              " -140681139153508.17,\n",
              " -140681139153508.17,\n",
              " -140681139153508.17,\n",
              " -140681139153508.17,\n",
              " -140681139153508.17,\n",
              " -140681139153508.17,\n",
              " -140681139153508.17,\n",
              " -140681139153508.17]"
            ]
          },
          "metadata": {
            "tags": []
          },
          "execution_count": 15
        },
        {
          "output_type": "display_data",
          "data": {
            "image/png": "[encoded data removed]",
            "text/plain": [
              "<Figure size 792x288 with 1 Axes>"
            ]
          },
          "metadata": {
            "tags": [],
            "needs_background": "light"
          }
        }
      ]
    },
    {
      "cell_type": "markdown",
      "metadata": {
        "id": "ZYtb4B-zpy2K"
      },
      "source": [
        "## Exercise 2: Momentum Optimizer (3 points)"
      ]
    },
    {
      "cell_type": "markdown",
      "metadata": {
        "id": "bvp0Fsa1OcT9"
      },
      "source": [
        "### 1. Implement momentum optimizer (2 points)\n",
        "To improve the performance of gradient descent we will introduce a momentum term.\n",
        "The momentum $m$ is a moving average of update $\\eta \\cdot g$. \\\n",
        " **Mathematical Expression**:\n",
        "\n",
        "$$ m_i = \\gamma \\cdot m_{i-1} +\\eta \\cdot g $$\n",
        "$$ x_i = x_{i-1} - m_i $$"
      ]
    },
    {
      "cell_type": "code",
      "metadata": {
        "id": "5qOu2roHOcT-"
      },
      "source": [
        "def momentum_descent(f, init_x, learning_rate, gamma = 0.9, num_steps=20, annotate = True):\n",
        "    '''\n",
        "    Performs gradient descent with momentum and plots the results\n",
        "    \n",
        "    Arguments:\n",
        "    f --  A callable python function with one dimensional output.\n",
        "    init_x -- A scalar, starting point for gradient descent.\n",
        "    learning_rate -- A scalar, parameter of gradient descent (eta).\n",
        "    gamma -- A scalar, parameter of momentum descent.\n",
        "    num_steps -- An int, number of update steps.\n",
        "    annotate -- A bool, switches annotations in the plot on or off.\n",
        "    \n",
        "    Return:\n",
        "    x -- A scalar, result of the gradient descent\n",
        "    '''\n",
        "    ar=[init_x]\n",
        "    m=[0]\n",
        "    for i in range(1,num_steps+1):\n",
        "      m.insert(i,(gamma*m[i-1])+(learning_rate*derivative(f,ar[i-1])))\n",
        "      ar.insert(i,ar[i-1]-m[i])\n",
        "    \n",
        "    plot_gradient_descent(f,np.array(ar),annotate)\n",
        "    return np.array(ar)\n",
        "          \n",
        "    pass"
      ],
      "execution_count": 17,
      "outputs": []
    },
    {
      "cell_type": "markdown",
      "metadata": {
        "id": "cl9fitQcOcUC"
      },
      "source": [
        "### 2. Investigate the behavior (1 point)\n",
        "Again, study the behaviour of your program with different learning rates and starting points.\n",
        "Does this work better than plain gradient descent? Describe how the momentum helps convergence."
      ]
    },
    {
      "cell_type": "markdown",
      "metadata": {
        "id": "nwISLVQxLlvv"
      },
      "source": [
        "The adding of the momentum makes the congervence to minima faster and also takes less number oscillations but in limited number of steps it might miss the minima and pass it because of the momentum.\n",
        "\n",
        "It works better with low learning rate (N<0.05) and with high learning rates it misses "
      ]
    },
    {
      "cell_type": "code",
      "metadata": {
        "id": "G-K-_5m9OcUD",
        "outputId": "c95b0102-20ae-4f33-d49b-cc090d45f183",
        "colab": {
          "base_uri": "https://localhost:8080/",
          "height": 367
        }
      },
      "source": [
        "momentum_descent(func,2.5,0.01)"
      ],
      "execution_count": 19,
      "outputs": [
        {
          "output_type": "execute_result",
          "data": {
            "text/plain": [
              "array([ 2.5       ,  2.3575    ,  2.12820143,  1.8713349 ,  1.62577013,\n",
              "        1.40824322,  1.2210773 ,  1.05957261,  0.91648636,  0.78418225,\n",
              "        0.65548062,  0.52394326,  0.38403401,  0.23144287,  0.06380701,\n",
              "       -0.11798537, -0.30792026, -0.4930021 , -0.65304813, -0.76450586,\n",
              "       -0.80905227])"
            ]
          },
          "metadata": {
            "tags": []
          },
          "execution_count": 19
        },
        {
          "output_type": "display_data",
          "data": {
            "image/png": "[encoded data removed]",
            "text/plain": [
              "<Figure size 792x288 with 1 Axes>"
            ]
          },
          "metadata": {
            "tags": [],
            "needs_background": "light"
          }
        }
      ]
    }
  ]
}