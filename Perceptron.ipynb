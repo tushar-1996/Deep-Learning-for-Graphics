{
  "nbformat": 4,
  "nbformat_minor": 0,
  "metadata": {
    "kernelspec": {
      "name": "python3",
      "display_name": "Python 3"
    },
    "colab": {
      "name": "DL4GV_Ex2_Perceptron.ipynb",
      "provenance": [],
      "collapsed_sections": []
    }
  },
  "cells": [
    {
      "cell_type": "markdown",
      "metadata": {
        "id": "8Ko7--jwQmFD"
      },
      "source": [
        "# Assignment 2: Perceptrons"
      ]
    },
    {
      "cell_type": "markdown",
      "metadata": {
        "id": "BRZtZcCewS1I"
      },
      "source": [
        "## Given"
      ]
    },
    {
      "cell_type": "code",
      "metadata": {
        "id": "QdD8T8ofwRb7"
      },
      "source": [
        "# loading necessary libraries\n",
        "import numpy as np\n",
        "import matplotlib.pyplot as plt\n",
        "import h5py\n",
        "\n",
        "%matplotlib inline\n",
        "    \n",
        "def load_dataset():\n",
        "    train_dataset = h5py.File('datasets/train_catvnoncat.h5', \"r\")\n",
        "    train_set_x_orig = np.array(train_dataset[\"train_set_x\"][:]) # your train set features\n",
        "    train_set_y_orig = np.array(train_dataset[\"train_set_y\"][:]) # your train set labels\n",
        "\n",
        "    test_dataset = h5py.File('datasets/test_catvnoncat.h5', \"r\")\n",
        "    test_set_x_orig = np.array(test_dataset[\"test_set_x\"][:]) # your test set features\n",
        "    test_set_y_orig = np.array(test_dataset[\"test_set_y\"][:]) # your test set labels\n",
        "\n",
        "    classes = np.array(test_dataset[\"list_classes\"][:]) # the list of classes\n",
        "    \n",
        "    train_set_y_orig = train_set_y_orig.reshape((1, train_set_y_orig.shape[0]))\n",
        "    test_set_y_orig = test_set_y_orig.reshape((1, test_set_y_orig.shape[0]))\n",
        "    \n",
        "    return train_set_x_orig, train_set_y_orig, test_set_x_orig, test_set_y_orig, classes\n",
        "\n",
        "def derivative(f,x, eps = 1e-6):\n",
        "    grad = (f(x+eps)-f(x-eps))/(2*eps)\n",
        "    return grad\n",
        "\n",
        "def sigmoid(z):\n",
        "    return 'Not implemented'\n",
        "def step(z):\n",
        "    return 'Not implemented'\n",
        "def tanh(z):\n",
        "    return 'Not implemented'\n",
        "def relu(z):\n",
        "    return 'Not implemented'\n",
        "\n",
        "def plot_activations():\n",
        "    x = np.linspace(-5, 5, 200)\n",
        "\n",
        "    plt.figure(figsize=(11,4))\n",
        "\n",
        "    plt.subplot(121)\n",
        "    plt.plot(x, step(x), \"r-\", linewidth=1, label=\"Step\")\n",
        "    plt.plot(x, sigmoid(x), \"g--\", linewidth=2, label=\"Sigmoid\")\n",
        "    plt.plot(x, tanh(x), \"b-\", linewidth=2, label=\"Tanh\")\n",
        "    plt.plot(x, relu(x), \"m-.\", linewidth=2, label=\"ReLU\")\n",
        "    plt.grid(True)\n",
        "    plt.title(\"Activation functions\", fontsize=14)\n",
        "    plt.axis([-5, 5, -1.2, 1.5])\n",
        "\n",
        "    plt.subplot(122)\n",
        "    plt.plot(x, derivative(step, x), \"r-\", linewidth=1, label=\"Step\")\n",
        "    plt.plot(x, derivative(sigmoid, x), \"g--\", linewidth=2, label=\"Sigmoid\")\n",
        "    plt.plot(x, derivative(tanh, x), \"b-\", linewidth=2, label=\"Tanh\")\n",
        "    plt.plot(x, derivative(relu, x), \"m-.\", linewidth=2, label=\"ReLU\")\n",
        "    plt.grid(True)\n",
        "    plt.title(\"Gradients\", fontsize=14)\n",
        "    plt.axis([-5, 5, -0.2, 1.2])\n",
        "    plt.legend(loc='upper right',fontsize=14,bbox_to_anchor=(1.5, 1), ncol=1)\n",
        "\n",
        "    plt.show()\n",
        "    \n",
        "def show_image(index, data_x, data_y):\n",
        "    example = data_x[index]\n",
        "    plt.imshow(data_x[index])\n",
        "    print (\"y = \" + str(data_y[:, index]) + \", '\" + classes[np.squeeze(data_y[:, index])].decode(\"utf-8\") +  \"' picture.\")\n",
        "\n",
        "    \n",
        "def show_mistake(index, data_x, data_y, d):\n",
        "    plt.imshow(data_x[:,index].reshape((num_px, num_px, 3)))\n",
        "    print (\"y = \" + str(data_y[0,index]) + \", you predicted that it is a \\\"\" + classes[int(d[\"Y_prediction_test\"][0,index])].decode(\"utf-8\") +  \"\\\" picture.\")\n",
        "\n",
        "def plot_training(d):\n",
        "    costs = np.squeeze(d['costs'])\n",
        "    plt.plot(costs)\n",
        "    plt.ylabel('cost')\n",
        "    plt.xlabel('iterations (per hundreds)')\n",
        "    plt.title(\"Learning rate =\" + str(d[\"learning_rate\"]))\n",
        "    plt.show()\n"
      ],
      "execution_count": 1,
      "outputs": []
    },
    {
      "cell_type": "markdown",
      "metadata": {
        "id": "HCTc-sVKQmFW"
      },
      "source": [
        "## Exercise 1: Preparing Data (2 Points)"
      ]
    },
    {
      "cell_type": "markdown",
      "metadata": {
        "id": "Qhrtc1PS6Ul3"
      },
      "source": [
        "\n",
        "### Loading a Dataset\n",
        "\n",
        "First we load a dataset containing images with labels for cat and non cat.\n",
        "You can change the index to view different images.\n",
        "\n",
        "(If you are not running this on Google Colab download the data manually, store them in a folder called 'datasets' and only execute the last line of the following cell)\n"
      ]
    },
    {
      "cell_type": "code",
      "metadata": {
        "scrolled": true,
        "id": "KonDLYK3QmFa",
        "outputId": "04695036-9f35-43ef-b1aa-f08849ced683",
        "colab": {
          "base_uri": "https://localhost:8080/"
        }
      },
      "source": [
        "# download data from google drive\n",
        "# for loading from google drive\n",
        "!pip install gdown\n",
        "# output directory\n",
        "!mkdir datasets\n",
        "!gdown https://drive.google.com/uc?id=1-XOTnNs4hcVRAb-sT2O02YqBhT2QY2d1 -O datasets/train_catvnoncat.h5 # training data\n",
        "!gdown https://drive.google.com/uc?id=11sDVqnSupkCl54chSitnGlrbLtvsuwgH -O datasets/test_catvnoncat.h5 # test data\n",
        " # loading dataset\n",
        "train_set_x_orig, train_set_y, test_set_x_orig, test_set_y, classes = load_dataset()"
      ],
      "execution_count": 2,
      "outputs": [
        {
          "output_type": "stream",
          "text": [
            "Requirement already satisfied: gdown in /usr/local/lib/python3.6/dist-packages (3.6.4)\n",
            "Requirement already satisfied: requests in /usr/local/lib/python3.6/dist-packages (from gdown) (2.23.0)\n",
            "Requirement already satisfied: six in /usr/local/lib/python3.6/dist-packages (from gdown) (1.15.0)\n",
            "Requirement already satisfied: tqdm in /usr/local/lib/python3.6/dist-packages (from gdown) (4.41.1)\n",
            "Requirement already satisfied: chardet<4,>=3.0.2 in /usr/local/lib/python3.6/dist-packages (from requests->gdown) (3.0.4)\n",
            "Requirement already satisfied: certifi>=2017.4.17 in /usr/local/lib/python3.6/dist-packages (from requests->gdown) (2020.6.20)\n",
            "Requirement already satisfied: idna<3,>=2.5 in /usr/local/lib/python3.6/dist-packages (from requests->gdown) (2.10)\n",
            "Requirement already satisfied: urllib3!=1.25.0,!=1.25.1,<1.26,>=1.21.1 in /usr/local/lib/python3.6/dist-packages (from requests->gdown) (1.24.3)\n",
            "Downloading...\n",
            "From: https://drive.google.com/uc?id=1-XOTnNs4hcVRAb-sT2O02YqBhT2QY2d1\n",
            "To: /content/datasets/train_catvnoncat.h5\n",
            "2.57MB [00:00, 82.1MB/s]\n",
            "Downloading...\n",
            "From: https://drive.google.com/uc?id=11sDVqnSupkCl54chSitnGlrbLtvsuwgH\n",
            "To: /content/datasets/test_catvnoncat.h5\n",
            "100% 617k/617k [00:00<00:00, 40.9MB/s]\n"
          ],
          "name": "stdout"
        }
      ]
    },
    {
      "cell_type": "code",
      "metadata": {
        "id": "9oRSRPZwmElV",
        "outputId": "eaecca7b-6850-41ea-d263-b4a7b04c0e3e",
        "colab": {
          "base_uri": "https://localhost:8080/",
          "height": 285
        }
      },
      "source": [
        "index = 10\n",
        "\n",
        "show_image(index, train_set_x_orig, train_set_y)"
      ],
      "execution_count": 3,
      "outputs": [
        {
          "output_type": "stream",
          "text": [
            "y = [0], 'non-cat' picture.\n"
          ],
          "name": "stdout"
        },
        {
          "output_type": "display_data",
          "data": {
            "image/png": "[encoded data removed]",
            "text/plain": [
              "<Figure size 432x288 with 1 Axes>"
            ]
          },
          "metadata": {
            "tags": [],
            "needs_background": "light"
          }
        }
      ]
    },
    {
      "cell_type": "markdown",
      "metadata": {
        "id": "S0bvuSkmQmFq"
      },
      "source": [
        "Now we want to take a look into the dataset."
      ]
    },
    {
      "cell_type": "code",
      "metadata": {
        "scrolled": true,
        "id": "4HirCgYIQmFu",
        "outputId": "e09ffe8d-e701-4c85-a00c-e3ebf08b27b4",
        "colab": {
          "base_uri": "https://localhost:8080/"
        }
      },
      "source": [
        "# Extracting the shapes of the training and the test set\n",
        "\n",
        "m_train = train_set_x_orig.shape[0]\n",
        "m_test = test_set_x_orig.shape[0]\n",
        "num_px = train_set_x_orig.shape[2]\n",
        "\n",
        "print (\"Number of training examples: m_train = \" + str(m_train))\n",
        "print (\"Number of testing examples: m_test = \" + str(m_test))\n",
        "print (\"Height/Width of each image: num_px = \" + str(num_px))\n",
        "print (\"Each image is of size: (\" + str(num_px) + \", \" + str(num_px) + \", 3)\")\n",
        "print (\"train_set_x shape: \" + str(train_set_x_orig.shape))\n",
        "print (\"train_set_y shape: \" + str(train_set_y.shape))\n",
        "print (\"test_set_x shape: \" + str(test_set_x_orig.shape))\n",
        "print (\"test_set_y shape: \" + str(test_set_y.shape))"
      ],
      "execution_count": 4,
      "outputs": [
        {
          "output_type": "stream",
          "text": [
            "Number of training examples: m_train = 209\n",
            "Number of testing examples: m_test = 50\n",
            "Height/Width of each image: num_px = 64\n",
            "Each image is of size: (64, 64, 3)\n",
            "train_set_x shape: (209, 64, 64, 3)\n",
            "train_set_y shape: (1, 209)\n",
            "test_set_x shape: (50, 64, 64, 3)\n",
            "test_set_y shape: (1, 50)\n"
          ],
          "name": "stdout"
        }
      ]
    },
    {
      "cell_type": "markdown",
      "metadata": {
        "id": "L47nMjNoQmF7"
      },
      "source": [
        "### 1. Preprocessing the Data (1 Point)\n",
        "\n",
        "To feed the data into our network later on, we have to format every data point, which are currently of the shape (64,64,3) into row-vectors.\n",
        "\n",
        "**Exercise**:\n",
        "Write the code to flatten the input data.\n",
        "A trick when you want to flatten a matrix $X$ of shape (a,b,c,d) to a matrix $X_{flatten}$ of shape (b$*$c$*$d, a) is to first reshape it in a (a,b$*$c$*$d) and then transpose it.\n"
      ]
    },
    {
      "cell_type": "code",
      "metadata": {
        "id": "WDWhwx-XQmF_",
        "outputId": "9f6e3001-21d7-43d1-a21c-92fc7c56a331",
        "colab": {
          "base_uri": "https://localhost:8080/"
        }
      },
      "source": [
        "# Reshape the data of the training and test set\n",
        "\n",
        "train_set_x_flatten = train_set_x_orig.reshape(209,64*64*3).transpose()\n",
        "test_set_x_flatten = test_set_x_orig.reshape(50,64*64*3).transpose()\n",
        "\n",
        "\n",
        "print (\"train_set_x_flatten shape: \" + str(train_set_x_flatten.shape))\n",
        "print (\"train_set_y shape: \" + str(train_set_y.shape))\n",
        "print (\"test_set_x_flatten shape: \" + str(test_set_x_flatten.shape))\n",
        "print (\"test_set_y shape: \" + str(test_set_y.shape))\n"
      ],
      "execution_count": 5,
      "outputs": [
        {
          "output_type": "stream",
          "text": [
            "train_set_x_flatten shape: (12288, 209)\n",
            "train_set_y shape: (1, 209)\n",
            "test_set_x_flatten shape: (12288, 50)\n",
            "test_set_y shape: (1, 50)\n"
          ],
          "name": "stdout"
        }
      ]
    },
    {
      "cell_type": "markdown",
      "metadata": {
        "id": "Jg0Qta8SQmGO"
      },
      "source": [
        "**Expected Output**: \n",
        "\n",
        "`train_set_x_flatten shape: (12288, 209)`\n",
        "\n",
        "`train_set_y shape: (1, 209)`\n",
        "\n",
        "`test_set_x_flatten shape: (12288, 50)`\n",
        "\n",
        "`test_set_y shape: (1, 50)`\n"
      ]
    },
    {
      "cell_type": "markdown",
      "metadata": {
        "id": "t3rBny9FQmGS"
      },
      "source": [
        "### 2. Normalization (1 Point)\n",
        "\n",
        "As a last step we want to normalize the RGB channels of the images.\n",
        "\n",
        "**Exercise**:\n",
        "Currently they are integers ranging from 0 to 255, we will normalize them to the range 0 to 1."
      ]
    },
    {
      "cell_type": "code",
      "metadata": {
        "id": "c0CpF_pwQmGW"
      },
      "source": [
        "train_set_x = train_set_x_flatten/255\n",
        "test_set_x = test_set_x_flatten/255"
      ],
      "execution_count": 6,
      "outputs": []
    },
    {
      "cell_type": "markdown",
      "metadata": {
        "id": "QrCQuYjQQmGe"
      },
      "source": [
        "## Exercise 2: Building Perceptrons (22 Points)"
      ]
    },
    {
      "cell_type": "markdown",
      "metadata": {
        "id": "YMjgZWKD6bZt"
      },
      "source": [
        "\n",
        "### 1. Activation Functions (4 Points)\n",
        "\n",
        "Next we want to implement different activation functions.\n",
        "\n",
        "**Exercise:** \n",
        "Write functions for the Sigmoid, the Rectified Linear Unit, the Hyperbolic tangent and the step function, that support broadcasting.\n",
        "\n",
        "Look up suitable [Numpy](https://docs.scipy.org/doc/numpy-1.10.1/search.html) functions."
      ]
    },
    {
      "cell_type": "code",
      "metadata": {
        "id": "r6bTQlmZQmGh"
      },
      "source": [
        "def sigmoid(x):\n",
        "    z = 1/(1 + np.exp(-x)) \n",
        "    return z\n",
        "\n",
        "def relu(x):\n",
        "    z=np.maximum(x, 0)\n",
        "    return z\n",
        "\n",
        "def tanh(x):\n",
        "    z=(np.exp(x)-np.exp(-x))/(np.exp(x)+np.exp(-x))\n",
        "    return z\n",
        "\n",
        "def step(x):\n",
        "    z=np.vectorize(lambda x: 1 if x > 0 else 0, otypes=[np.float])\n",
        "    return z(x)"
      ],
      "execution_count": 7,
      "outputs": []
    },
    {
      "cell_type": "code",
      "metadata": {
        "id": "2o0b1FFFQmGm",
        "outputId": "13b7a69c-b94e-4264-bf60-04431239f1a4",
        "colab": {
          "base_uri": "https://localhost:8080/",
          "height": 282
        }
      },
      "source": [
        "plot_activations()"
      ],
      "execution_count": 8,
      "outputs": [
        {
          "output_type": "display_data",
          "data": {
            "image/png": "[encoded data removed]",
            "text/plain": [
              "<Figure size 792x288 with 2 Axes>"
            ]
          },
          "metadata": {
            "tags": [],
            "needs_background": "light"
          }
        }
      ]
    },
    {
      "cell_type": "markdown",
      "metadata": {
        "id": "Vudp-hDkQmGs"
      },
      "source": [
        "### 2. Loss Function (1 Point)\n",
        "\n",
        "Next we need a loss function for our network, we will use the cross entropy loss, also called negative log-likelihood\n",
        "\n",
        "$$ \\mathcal{L}(y, \\hat y) = -y \\ln(\\hat y) - (1-y)\\ln(1-\\hat y). $$\n",
        "\n",
        "**Exercise**:\n",
        "Write a function to return the loss."
      ]
    },
    {
      "cell_type": "code",
      "metadata": {
        "id": "wNHhrLMMQmGt"
      },
      "source": [
        "def crossentropy_loss(y,yhat):\n",
        "    '''\n",
        "    Computes the Cross Entropy-Loss or Negative Log-Likelihood elementwise between y and yhat.\n",
        "    \n",
        "    Arguments:\n",
        "    y - A numpy array\n",
        "    yhat -  A numpy array of the same shape a y\n",
        "    \n",
        "    Returns:\n",
        "    L - A numpy array of the same shape as y\n",
        "    '''\n",
        "    L=-y*np.log(yhat)-(1-y)*np.log(1-yhat)\n",
        "\n",
        "    return L"
      ],
      "execution_count": 9,
      "outputs": []
    },
    {
      "cell_type": "code",
      "metadata": {
        "id": "qOGdR3QCQmGx",
        "outputId": "ffdc00b4-a1ba-472b-94df-df782c04211c",
        "colab": {
          "base_uri": "https://localhost:8080/"
        }
      },
      "source": [
        "y = np.array([0,1,0])\n",
        "yhat = np.array([0.1,0.4,0.9])\n",
        "print(crossentropy_loss(y,yhat))"
      ],
      "execution_count": 10,
      "outputs": [
        {
          "output_type": "stream",
          "text": [
            "[0.10536052 0.91629073 2.30258509]\n"
          ],
          "name": "stdout"
        }
      ]
    },
    {
      "cell_type": "markdown",
      "metadata": {
        "id": "QXG1G8E1QmG1"
      },
      "source": [
        "**Expected output**:\n",
        "\n",
        "`[0.10536052 0.91629073 2.30258509]`\n"
      ]
    },
    {
      "cell_type": "markdown",
      "metadata": {
        "id": "fn6ogbkeQmG2"
      },
      "source": [
        "### 3. Initializing Parameters (2 Points)\n",
        "\n",
        "First we have to initialize the parameters of the Perceptron.\n",
        "\n",
        "**Exercise:** Implement the parameter initialization for a single Perceptron.\n",
        "\n",
        "Try using `np.zeros`\n"
      ]
    },
    {
      "cell_type": "code",
      "metadata": {
        "id": "ihMp-FcCQmG3"
      },
      "source": [
        "def initialize_with_zeros(dim):\n",
        "    '''\n",
        "    Initializes the parameters of a Perceptrons. \n",
        "    w as a vector of zeros of shape (dim, 1) b as 0.0 .\n",
        "    \n",
        "    Argument:\n",
        "    dim -- size of the w vector we want (or number of parameters in this case)\n",
        "    \n",
        "    Returns:\n",
        "    w -- initialized vector of shape (dim, 1)\n",
        "    b -- initialized scalar (corresponds to the bias)\n",
        "    '''\n",
        "    w=np.zeros((dim,1))\n",
        "    b=0.0\n",
        "    \n",
        "    return w,b"
      ],
      "execution_count": 11,
      "outputs": []
    },
    {
      "cell_type": "code",
      "metadata": {
        "id": "IOabFivPQmG7",
        "outputId": "a80d3207-dd70-4bf7-b44e-5f9e0c03c71d",
        "colab": {
          "base_uri": "https://localhost:8080/"
        }
      },
      "source": [
        "dim = 2\n",
        "w, b = initialize_with_zeros(dim)\n",
        "print(w)\n",
        "print(b)"
      ],
      "execution_count": 12,
      "outputs": [
        {
          "output_type": "stream",
          "text": [
            "[[0.]\n",
            " [0.]]\n",
            "0.0\n"
          ],
          "name": "stdout"
        }
      ]
    },
    {
      "cell_type": "markdown",
      "metadata": {
        "id": "EicKuhYOQmG-"
      },
      "source": [
        "**Expected output**:\n",
        "\n",
        "`[[0.]`\n",
        "\n",
        "` [0.]]`\n",
        "\n",
        "`0`"
      ]
    },
    {
      "cell_type": "markdown",
      "metadata": {
        "id": "-X3qb9CUQmHA"
      },
      "source": [
        "### 4. Forward and Backward Propagation of a Perceptron (5 Points)\n",
        "\n",
        "Now that your parameters are initialized, you can do the \"forward\" and \"backward\" propagation steps for learning the parameters.\n",
        "\n",
        "**Exercise:** Implement a function `propagate()` that computes the cost function and its gradient.\n",
        "\n",
        "**Hints**:\n",
        "\n",
        "Forward Propagation:\n",
        "- Compute the output $\\hat Y = \\sigma(w^T X + b)$\n",
        "- Calculate the cost function: $J = \\frac{1}{m}\\sum_{i=1}^{m}\\mathcal L (y_i, \\hat y_i)$\n",
        "\n",
        "Backward propagation: \n",
        "\n",
        "$$ \\frac{\\partial J}{\\partial w} = \\frac{1}{m}X(\\hat Y-Y)^T$$\n",
        "$$ \\frac{\\partial J}{\\partial b} = \\frac{1}{m} \\sum_{i=1}^m (\\hat y_i-y_i)$$\n",
        "\n",
        "\n",
        "\n",
        "If you are interested in how to get the formula for the gradients, see [here](https://math.stackexchange.com/questions/477207/derivative-of-cost-function-for-logistic-regression)."
      ]
    },
    {
      "cell_type": "code",
      "metadata": {
        "id": "_y9jJdB5QmHB"
      },
      "source": [
        "def perceptron_propagate(w, b, X, Y):\n",
        "    '''\n",
        "    Implement the cost function and its gradient for the propagation explained above\n",
        "\n",
        "    Arguments:\n",
        "    w -- A numpy array of size (dim, 1), the weights\n",
        "    b -- A scalar, the bias\n",
        "    X -- A numpy array of shape (dim, m), the data\n",
        "    Y -- A numpy array of shape (1, m), the labels (containing 0 if non-cat, 1 if cat)\n",
        "\n",
        "    Return:\n",
        "    cost -- negative log-likelihood cost for logistic regression\n",
        "    dw -- A numpy array of the same shape as w, gradient of the loss with respect to w\n",
        "    db -- A numpy array of shape (1,), gradient of the loss with respect to b\n",
        "\n",
        "    '''\n",
        "    yhat=sigmoid((w.transpose()@X)+b)\n",
        "    cost=crossentropy_loss(Y,yhat).sum()/Y.shape[1]\n",
        "\n",
        "    dw=X@(yhat-Y).transpose()/Y.shape[1]\n",
        "    db=np.array([(yhat-Y).sum()/Y.shape[1]])\n",
        "    \n",
        "    return cost,dw,db"
      ],
      "execution_count": 13,
      "outputs": []
    },
    {
      "cell_type": "code",
      "metadata": {
        "scrolled": true,
        "id": "8haaCrCJQmHF",
        "outputId": "c5b19b90-6b9c-4f28-fad4-8da9866aa264",
        "colab": {
          "base_uri": "https://localhost:8080/"
        }
      },
      "source": [
        "w, b, X, Y = np.array([[-1],[1]]), 0, np.array([[1,2],[3,4]]), np.array([[1,0]])\n",
        "\n",
        "cost, dw, db = perceptron_propagate(w, b, X, Y)\n",
        "print (\"dw = \" + str(dw))\n",
        "print (\"db = \" + str(db))\n",
        "print (\"cost = \" + str(cost))"
      ],
      "execution_count": 14,
      "outputs": [
        {
          "output_type": "stream",
          "text": [
            "dw = [[0.82119562]\n",
            " [1.58278977]]\n",
            "db = [0.38079708]\n",
            "cost = 1.126928011042972\n"
          ],
          "name": "stdout"
        }
      ]
    },
    {
      "cell_type": "markdown",
      "metadata": {
        "id": "akRkeNReQmHI"
      },
      "source": [
        "**Expected output**:\n",
        "\n",
        "`dw = [[0.82119562]`\n",
        "\n",
        "` [1.58278977]]`\n",
        "\n",
        "`db = [0.38079708]`\n",
        "\n",
        "`cost = 1.126928011042972`"
      ]
    },
    {
      "cell_type": "markdown",
      "metadata": {
        "id": "W9UCOj_HQmHK"
      },
      "source": [
        "### 5. Optimization (4 Points)\n",
        "The next step is the the actual optimization of the parameters using gradient descent.\n",
        "\n",
        "**Exercise:** \n",
        "\n",
        "Complete the optimization function. The goal is to learn $w$ and $b$ by minimizing the cost function $J$. \n",
        "Remember that the update rule is$$ \\theta = \\theta - \\eta \\cdot d\\theta.$$\n",
        "Also include a function to print the cost every 100 steps, if `print_cost == True`.\n",
        "\n"
      ]
    },
    {
      "cell_type": "code",
      "metadata": {
        "id": "vat6ttFvQmHL"
      },
      "source": [
        "def perceptron_optimize(w, b, X, Y, num_steps, learning_rate, print_cost = False):\n",
        "    '''\n",
        "    This function optimizes the parameters of the perceptron w and b using gradient descent.\n",
        "    \n",
        "    Arguments:\n",
        "    w -- A numpy array of size (dim, 1), the weights\n",
        "    b -- A scalar, the bias\n",
        "    X -- A numpy array of shape (dim, m), the data\n",
        "    Y -- A numpy array of shape (1, m), the labels (containing 0 if non-cat, 1 if cat)\n",
        "    num_steps -- An integer, the number of steps in the optimization loop\n",
        "    learning_rate -- A float, learning rate for the gradient descent\n",
        "    print_cost -- A Boolean, True to print the loss every 100 steps\n",
        "    \n",
        "    Returns:\n",
        "    params -- dictionary, containing the weights w and bias b\n",
        "    grads -- dictionary, containing the gradients of the weights and bias with respect to the cost function\n",
        "    costs -- list, cost of every 100th step.\n",
        "    '''\n",
        "    costs=np.array([])\n",
        "    for i in range(1,num_steps+1):\n",
        "      cost, dw, db = perceptron_propagate(w, b, X, Y)\n",
        "      w=w-learning_rate*dw\n",
        "      b=b-learning_rate*db\n",
        "      if (i%100==0):\n",
        "        if (print_cost==True):\n",
        "          print (cost)\n",
        "        costs=np.append(costs,cost)\n",
        "\n",
        "    params = {\"w\": w,\n",
        "              \"b\": b}\n",
        "    \n",
        "    grads = {\"dw\": dw,\n",
        "             \"db\": db}\n",
        "    \n",
        "    return params, grads, costs"
      ],
      "execution_count": 22,
      "outputs": []
    },
    {
      "cell_type": "code",
      "metadata": {
        "id": "0yWG3rXrQmHO",
        "outputId": "40ca0d04-1dd9-44aa-bdaf-17fbbaa818ca",
        "colab": {
          "base_uri": "https://localhost:8080/"
        }
      },
      "source": [
        "params, grads, costs = perceptron_optimize(w, b, X, Y, num_steps= 100, learning_rate = 0.009, print_cost = False)\n",
        "\n",
        "#print('costs = ', costs)\n",
        "print ('w = ' + str(params['w']))\n",
        "print ('b = ' + str(params['b']))\n",
        "print ('dw = ' + str(grads['dw']))\n",
        "print ('db = ' + str(grads['db']))"
      ],
      "execution_count": 24,
      "outputs": [
        {
          "output_type": "stream",
          "text": [
            "w = [[-1.31346227]\n",
            " [ 0.52901232]]\n",
            "b = [-0.0787627]\n",
            "dw = [[0.13198295]\n",
            " [0.03846422]]\n",
            "db = [-0.04675936]\n"
          ],
          "name": "stdout"
        }
      ]
    },
    {
      "cell_type": "markdown",
      "metadata": {
        "id": "McE4ap0JQmHS"
      },
      "source": [
        "**Expected Output**:\n",
        "\n",
        "`w = [[-1.31346227]`\n",
        "\n",
        "`[ 0.52901232]]`\n",
        "\n",
        "`b = [-0.0787627]`\n",
        "\n",
        "`dw = [[0.13198295]`\n",
        "\n",
        "`[0.03846422]]`\n",
        "\n",
        "`db = [-0.04675936]`\n"
      ]
    },
    {
      "cell_type": "markdown",
      "metadata": {
        "id": "zPNHBao6QmHU"
      },
      "source": [
        "### 6. Prediction (2 Points)\n",
        "\n",
        "The last missing step is a function to give predictions based on the network output.\n",
        "\n",
        "**Exercise**: \n",
        "For this complete the function to return a 0 if $\\hat y \\leq 0.5$ and 1 if $\\hat y > 0.5$.\n",
        "- Avoid a for-loop."
      ]
    },
    {
      "cell_type": "code",
      "metadata": {
        "id": "mFeeiebzQmHX"
      },
      "source": [
        "def perceptron_predict(w, b, X):\n",
        "    '''\n",
        "    Predict labels for the input data based on the given parameters\n",
        "    \n",
        "    Arguments:\n",
        "    w -- A numpy array of size (dim, 1), the weights\n",
        "    b -- A scalar, the bias\n",
        "    X -- A numpy array of shape (dim, m), the data\n",
        "    \n",
        "    Returns:\n",
        "    Y_prediction -- A numpy array of shape (1,m), the  predictions (containing 0 if non-cat, 1 if cat)\n",
        "    Yhat -- A numpy array of shape (1,m), the predicted probabilities\n",
        "    '''      \n",
        "    Yhat=sigmoid((w.transpose()@X)+b)\n",
        "    Y_prediction=np.round_(Yhat).astype(int)\n",
        "\n",
        "    return Y_prediction, Yhat"
      ],
      "execution_count": 25,
      "outputs": []
    },
    {
      "cell_type": "code",
      "metadata": {
        "id": "sf36rpXXQmHc",
        "outputId": "ad2625ec-3c1d-4f5b-dd1c-5db4842a9a1f",
        "colab": {
          "base_uri": "https://localhost:8080/"
        }
      },
      "source": [
        "Y_pred, Y_prob = perceptron_predict(w,b,X)\n",
        "print (\"probabilites = \" + str(Y_prob))\n",
        "print (\"predictions = \" + str(Y_pred))"
      ],
      "execution_count": 26,
      "outputs": [
        {
          "output_type": "stream",
          "text": [
            "probabilites = [[0.88079708 0.88079708]]\n",
            "predictions = [[1 1]]\n"
          ],
          "name": "stdout"
        }
      ]
    },
    {
      "cell_type": "markdown",
      "metadata": {
        "id": "-7_IJ5ISQmHh"
      },
      "source": [
        "**Expected Output**:\n",
        "\n",
        "` \n",
        "probabilites = [[0.88079708 0.88079708]]`\n",
        "\n",
        "`predictions = [[1 1]]\n",
        "` "
      ]
    },
    {
      "cell_type": "markdown",
      "metadata": {
        "id": "SjeESTdOQmHi"
      },
      "source": [
        "### 7. Build the complete Perceptron (4 Points)\n",
        "\n",
        "We will now put all our building blocks together to form a model\n",
        "\n",
        "**Exercise**:\n",
        "Use your previously build functions to complete the model."
      ]
    },
    {
      "cell_type": "code",
      "metadata": {
        "id": "o4_Rv1ODQmHj"
      },
      "source": [
        "def model(X_train, Y_train, X_test, Y_test, num_steps = 2000, learning_rate = 0.5, print_cost = False):\n",
        "    '''\n",
        "    Builds the logistic regression model by calling the functions you've implemented previously\n",
        "    \n",
        "    Arguments:\n",
        "    X_train -- A numpy array of shape (dim, m_train), the training data\n",
        "    Y_train -- A numpy array of shape (1, m_train), the training labels (containing 0 if non-cat, 1 if cat)\n",
        "    X_test -- A numpy array of shape (dim, m_test), the test data\n",
        "    Y_test -- A numpy array of shape (1, m_test), the test labels (containing 0 if non-cat, 1 if cat)\n",
        "    num_steps -- An integer, the number of steps in the optimization loop\n",
        "    learning_rate -- A float, learning rate for the gradient descent\n",
        "    print_cost -- A Boolean, True to print the loss every 100 steps\n",
        "    \n",
        "    Returns:\n",
        "    d -- dictionary, containing information about the model.\n",
        "    '''\n",
        "    \n",
        "    # use the variable names as shown below in d\n",
        "    ### START CODE HERE ###\n",
        "    w,b=initialize_with_zeros(X_train.shape[0])\n",
        "    params, grads, costs = perceptron_optimize(w, b, X_train, Y_train, num_steps, learning_rate, print_cost)\n",
        "    Y_prediction_train, Y_probablity_train = perceptron_predict(params['w'],params['b'],X_train)\n",
        "    Y_prediction_test, Y_probablity_test = perceptron_predict(params['w'],params['b'],X_test)\n",
        "\n",
        "    ### END CODE HERE ###\n",
        "\n",
        "    # Print train/test Errors\n",
        "    print('train accuracy: {} %'.format(100 - np.mean(np.abs(Y_prediction_train - Y_train)) * 100))\n",
        "    print('test accuracy: {} %'.format(100 - np.mean(np.abs(Y_prediction_test - Y_test)) * 100))\n",
        "\n",
        "    \n",
        "    d = {'costs': costs,\n",
        "         'Y_prediction_test': Y_prediction_test, \n",
        "         'Y_prediction_train' : Y_prediction_train, \n",
        "         'w' : w, \n",
        "         'b' : b,\n",
        "         'learning_rate' : learning_rate,\n",
        "         'num_iterations': num_steps}\n",
        "    plot_training(d)\n",
        "    \n",
        "    return d"
      ],
      "execution_count": 28,
      "outputs": []
    },
    {
      "cell_type": "markdown",
      "metadata": {
        "id": "N6paone3QmHm"
      },
      "source": [
        "### Run the model"
      ]
    },
    {
      "cell_type": "code",
      "metadata": {
        "id": "kvTr6CuAQmHn",
        "outputId": "842cc23b-4918-4383-d0f7-e426d83ee451",
        "colab": {
          "base_uri": "https://localhost:8080/",
          "height": 669
        }
      },
      "source": [
        "d = model(train_set_x, train_set_y, test_set_x, test_set_y, num_steps = 2000, learning_rate = 0.005, print_cost = True)\n"
      ],
      "execution_count": 29,
      "outputs": [
        {
          "output_type": "stream",
          "text": [
            "0.6448978829531701\n",
            "0.484893614148485\n",
            "0.37776149521638075\n",
            "0.3317754055523588\n",
            "0.3035286720260553\n",
            "0.28009427757967503\n",
            "0.26022584756281886\n",
            "0.2431001839983885\n",
            "0.22814432769465365\n",
            "0.21494377069682477\n",
            "0.2031892821910463\n",
            "0.19264428020365895\n",
            "0.18312389153132902\n",
            "0.17448101386887016\n",
            "0.16659675354042902\n",
            "0.1593736950985854\n",
            "0.15273105849939206\n",
            "0.14660114629898885\n",
            "0.1409266916696517\n",
            "0.13565884743936965\n",
            "train accuracy: 99.04306220095694 %\n",
            "test accuracy: 70.0 %\n"
          ],
          "name": "stdout"
        },
        {
          "output_type": "display_data",
          "data": {
            "image/png": "[encoded data removed]",
            "text/plain": [
              "<Figure size 432x288 with 1 Axes>"
            ]
          },
          "metadata": {
            "tags": [],
            "needs_background": "light"
          }
        }
      ]
    },
    {
      "cell_type": "markdown",
      "metadata": {
        "id": "A99LPI_yQmHq"
      },
      "source": [
        "**Expected Output**:\n",
        "\n",
        "`train accuracy: 99.043062201 %`\n",
        "\n",
        "`test accuracy: 70.0 %`"
      ]
    },
    {
      "cell_type": "code",
      "metadata": {
        "id": "MRPvvdaSQmHr",
        "outputId": "21abbf35-3f75-4324-f24f-785e88789a6d",
        "colab": {
          "base_uri": "https://localhost:8080/",
          "height": 285
        }
      },
      "source": [
        "# Example of a picture that was wrongly classified.\n",
        "index = 6\n",
        "show_mistake(index, test_set_x, test_set_y, d)"
      ],
      "execution_count": 30,
      "outputs": [
        {
          "output_type": "stream",
          "text": [
            "y = 1, you predicted that it is a \"non-cat\" picture.\n"
          ],
          "name": "stdout"
        },
        {
          "output_type": "display_data",
          "data": {
            "image/png": "[encoded data removed]",
            "text/plain": [
              "<Figure size 432x288 with 1 Axes>"
            ]
          },
          "metadata": {
            "tags": [],
            "needs_background": "light"
          }
        }
      ]
    }
  ]
}