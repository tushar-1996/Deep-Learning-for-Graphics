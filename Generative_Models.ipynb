{
  "nbformat": 4,
  "nbformat_minor": 0,
  "metadata": {
    "colab": {
      "name": "DL4GV_Ex_6_Generative_Models.ipynb",
      "provenance": [],
      "collapsed_sections": [],
      "toc_visible": true
    },
    "kernelspec": {
      "display_name": "Python 3",
      "name": "python3"
    },
    "accelerator": "GPU"
  },
  "cells": [
    {
      "cell_type": "markdown",
      "metadata": {
        "id": "qTXOGdaz4wy0"
      },
      "source": [
        "# Assignment 6: Generative Models\n"
      ]
    },
    {
      "cell_type": "markdown",
      "metadata": {
        "id": "xV2PHnNR8isL"
      },
      "source": [
        "## Given"
      ]
    },
    {
      "cell_type": "markdown",
      "metadata": {
        "id": "T0u1iRor8qRZ"
      },
      "source": [
        "Import Tensorflow and other libraries we need"
      ]
    },
    {
      "cell_type": "code",
      "metadata": {
        "id": "2KMBJBmR8mvR",
        "colab": {
          "base_uri": "https://localhost:8080/"
        },
        "outputId": "dd606208-84f1-4d0b-9b04-e633a2560313"
      },
      "source": [
        "from __future__ import absolute_import, division, print_function, unicode_literals\n",
        "import tensorflow as tf\n",
        "from tensorflow.keras import layers\n",
        "\n",
        "!pip install imageio\n",
        "import os\n",
        "import time\n",
        "import numpy as np\n",
        "import glob\n",
        "import matplotlib.pyplot as plt\n",
        "import PIL\n",
        "import imageio\n",
        "import time\n",
        "\n",
        "from IPython import display"
      ],
      "execution_count": null,
      "outputs": [
        {
          "output_type": "stream",
          "text": [
            "Requirement already satisfied: imageio in /usr/local/lib/python3.6/dist-packages (2.4.1)\n",
            "Requirement already satisfied: numpy in /usr/local/lib/python3.6/dist-packages (from imageio) (1.19.4)\n",
            "Requirement already satisfied: pillow in /usr/local/lib/python3.6/dist-packages (from imageio) (7.0.0)\n"
          ],
          "name": "stdout"
        }
      ]
    },
    {
      "cell_type": "markdown",
      "metadata": {
        "id": "xRKf_NHN8Taj"
      },
      "source": [
        "## Exercise 1: Variational Auto Encoder (21 points)"
      ]
    },
    {
      "cell_type": "markdown",
      "metadata": {
        "id": "oaCNNQ7E8fjd"
      },
      "source": [
        "### 1.1 Data Preparation (2 points)\n",
        "- Get the MNIST dataset from Keras\n",
        "- Reshape the data to `28x28x1` images\n",
        "- Normalize data to $[0,1]$ range\n",
        "- Binarize the data with a $0.5$ threshold\n",
        "- Split into training and validation dataset"
      ]
    },
    {
      "cell_type": "code",
      "metadata": {
        "id": "LkCD_AW1DRDq",
        "colab": {
          "base_uri": "https://localhost:8080/"
        },
        "outputId": "af356b3f-faf1-45ba-f620-c4717e7ced1a"
      },
      "source": [
        "(train_images, _), (test_images, _) = tf.keras.datasets.mnist.load_data()\n",
        "\n",
        "def preprocess_images(images):\n",
        "  images = images.reshape((images.shape[0], 28, 28, 1)) / 255.\n",
        "  return np.where(images > .5, 1.0, 0.0).astype('float32')\n",
        "\n",
        "train_images = preprocess_images(train_images)\n",
        "test_images = preprocess_images(test_images)\n",
        "train_size = 60000\n",
        "test_size = 10000\n",
        "optimizer = tf.keras.optimizers.Adam(1e-4)\n"
      ],
      "execution_count": null,
      "outputs": [
        {
          "output_type": "stream",
          "text": [
            "Downloading data from https://storage.googleapis.com/tensorflow/tf-keras-datasets/mnist.npz\n",
            "11493376/11490434 [==============================] - 0s 0us/step\n"
          ],
          "name": "stdout"
        }
      ]
    },
    {
      "cell_type": "markdown",
      "metadata": {
        "id": "bcZC7dnM-z7U"
      },
      "source": [
        "### 1.2 Define the VAE model (8 points)\n",
        "Define a convolutional variational auto encoder as `tf.keras.Model`. The encoder should consist of two stride 2 convolutions (32, 64 filters should work), each with kernel size 3 and ReLU activation, following by a fully connected layer to produce a latent space of size `latent_dim` (note that is mean and std for each). The decoder should be symmetric to the encoder, using transpose convs with stride 2 for upsampling.\n",
        "Your VAE model class should have four methods, as indicated by the function signatures below. See their docstrings for a short description\n",
        "\n",
        "Tips:\n",
        "- We will have the encoder produce a log variance rather than a standard deviation. This is only for numerical stability. To get from log variance to standard deviation do $e^{0.5 \\cdot logvar}$.\n",
        "- Make your fully connected layer in the encoder output `2*latent_dim` and use `tf.split` to extract mean and std from its output."
      ]
    },
    {
      "cell_type": "code",
      "metadata": {
        "id": "AOEuXi4jBFE4"
      },
      "source": [
        "class CVAE(tf.keras.Model):\n",
        "\n",
        "    def __init__(self, latent_dim):\n",
        "      super(CVAE, self).__init__()\n",
        "      self.latent_dim = latent_dim\n",
        "      self.encoder = tf.keras.Sequential(\n",
        "            [\n",
        "                tf.keras.layers.InputLayer(input_shape=(28, 28, 1)),\n",
        "                tf.keras.layers.Conv2D(\n",
        "                    filters=32, kernel_size=3, strides=(2, 2), activation='relu'),\n",
        "                tf.keras.layers.Conv2D(\n",
        "                    filters=64, kernel_size=3, strides=(2, 2), activation='relu'),\n",
        "                tf.keras.layers.Flatten(),\n",
        "                # No activation\n",
        "                tf.keras.layers.Dense(latent_dim + latent_dim),\n",
        "            ]\n",
        "        )\n",
        "\n",
        "      self.decoder = tf.keras.Sequential(\n",
        "          [\n",
        "              tf.keras.layers.InputLayer(input_shape=(latent_dim,)),\n",
        "              tf.keras.layers.Dense(units=7*7*32, activation=tf.nn.relu),\n",
        "              tf.keras.layers.Reshape(target_shape=(7, 7, 32)),\n",
        "              tf.keras.layers.Conv2DTranspose(\n",
        "                  filters=64, kernel_size=3, strides=2, padding='same',\n",
        "                  activation='relu'),\n",
        "              tf.keras.layers.Conv2DTranspose(\n",
        "                  filters=32, kernel_size=3, strides=2, padding='same',\n",
        "                  activation='relu'),\n",
        "              # No activation\n",
        "              tf.keras.layers.Conv2DTranspose(\n",
        "                  filters=1, kernel_size=3, strides=1, padding='same'),\n",
        "          ]\n",
        "      )\n",
        "\n",
        "    @tf.function\n",
        "    def sample(self, eps=None):\n",
        "        ''' Sample an image from a latent vector `eps` and feed it through the decoder \n",
        "        Args: \n",
        "            eps is the latent code to be fed through the decoder. If eps is None, sample it randomly from N(0, I).\n",
        "        Returns:\n",
        "            Decoded latent vector / generated image\n",
        "        '''\n",
        "        if eps is None:\n",
        "          eps = tf.random.normal(shape=(100, latent_dim))\n",
        "        return self.decode(eps, apply_sigmoid=True)\n",
        "\n",
        "\n",
        "    def encode(self, x, training=True):\n",
        "        ''' Encode a batch of images. Outputs (`mean`, `log variance`) \n",
        "            Args:\n",
        "                x: the batch of input images to encode\n",
        "                training: Whether operations like BatchNorm and Dropout should apply for encoding. Defaults to True.\n",
        "            Returns: The mean and log variance of the posterior distribution    \n",
        "        '''\n",
        "        mean, logvar = tf.split(self.encoder(x), num_or_size_splits=2, axis=1)\n",
        "        return mean, logvar\n",
        "\n",
        "    def reparameterize(self, mean, logvar):\n",
        "        ''' Sample a random N(0, I) and reparameterize with `mean` and `logvar` '''\n",
        "        epsilon = tf.random.normal(shape=mean.shape)\n",
        "        return mean + tf.exp(0.5 * logvar) * epsilon\n",
        "\n",
        "    def decode(self, z, apply_sigmoid=False, training=True):\n",
        "        ''' Decode the latent vector `z`. With `apply_sigmoid=True` the resulting image is scaled to (0, 1), otherwise logits are returned\n",
        "            Args:\n",
        "                z: the batch of latent vectors to decode\n",
        "                apply_sigmoid: Whether the output is scaled to (0,1). Defaults to False.\n",
        "                training: Whether operations like BatchNorm and Dropout should apply for decoding. Defaults to True.\n",
        "            Returns: The decoded image\n",
        "        '''\n",
        "        logits = self.decoder(z)\n",
        "        if apply_sigmoid:\n",
        "          probs = tf.sigmoid(logits)\n",
        "          return probs\n",
        "        return logits"
      ],
      "execution_count": null,
      "outputs": []
    },
    {
      "cell_type": "markdown",
      "metadata": {
        "id": "HKeQ1WhEDIJY"
      },
      "source": [
        "### 1.3 Define training and validation steps (6 points)\n",
        "A validation step consists of first encoding a batch of inputs, sampling the latent vector using the reparameterization trick, decoding the sampled latent vector and computing the loss for this prediction. The training step does the same while tracking the gradients and lastly also having the optimizer apply the gradients to the model.\n",
        "\n",
        "The loss is a combination of negative log likelihood $-\\log{p(x|z)}$ (use cross entropy) and Kullback-Leibler divergence of the posterior samples and the desired latent space prior, which is $\\mathcal{N}(0, I)$. The `log_normal_pdf(z, mean, logvar)` function gives you the probability density of sample `z` in a normal distribution with the given `mean` and `logvar` (log variance). \n",
        "\n",
        "**Note:** \n",
        "In the lecture the encoder is described to output a standard deviation, while the use of log variance is used throughout this implementation. This is due to numerical stability reasons. For the computation of the KL divergence in the VAE loss, you can use $\\log{p(z)} - \\log{q(z|x)}$, where $\\log{p(z)}$ and $\\log{q(z|x)}$ can be computed by `log_normal_pdf(z, 0.0, 0.0)` and `log_normal_pdf(z, mean, logvar)` respectively. \n"
      ]
    },
    {
      "cell_type": "code",
      "metadata": {
        "id": "TK6eN1J0Igat"
      },
      "source": [
        "def log_normal_pdf(sample, mean, logvar, raxis=1):\n",
        "    '''  Computes the probability of `sample` for a Gaussian normal distribution with `mean` and log variance `logvar`. '''\n",
        "    log2pi = tf.math.log(2. * np.pi)\n",
        "    return tf.reduce_sum(-.5 * ((sample - mean) ** 2. * tf.exp(-logvar) + logvar + log2pi), axis=raxis)\n",
        "  \n",
        "def compute_loss(model, x):\n",
        "    mean, logvar = model.encode(x)\n",
        "    z = model.reparameterize(mean, logvar)\n",
        "    x_logit = model.decode(z)\n",
        "    cross_ent = tf.nn.sigmoid_cross_entropy_with_logits(logits=x_logit, labels=x)\n",
        "    logpx_z = -tf.reduce_sum(cross_ent, axis=[1, 2, 3])\n",
        "    logpz = log_normal_pdf(z, 0., 0.)\n",
        "    logqz_x = log_normal_pdf(z, mean, logvar)\n",
        "    return -tf.reduce_mean(logpx_z + logpz - logqz_x)\n",
        "\n",
        "@tf.function\n",
        "def valid_step(model, x):\n",
        "    ''' Performs a validation step for `model` with the input batch `x` \n",
        "    Args:\n",
        "        model: The `tf.keras.Model` to be validated\n",
        "        x:     The batch of input data (must be compatible with `model`)\n",
        "    Returns:\n",
        "        A tuple of (loss, sigmoid-scaled prediction)\n",
        "    '''\n",
        "    loss = compute_loss(model, x)\n",
        "\n",
        "    return loss\n",
        "\n",
        "@tf.function\n",
        "def train_step(model, x, optimizer):\n",
        "    ''' Performs a training step by feeding `x` through the model, computing the loss, gradients and updating the weights. Returns the sigmoid-scaled predictions\n",
        "    Args:\n",
        "        model: The `tf.keras.Model` to be trained\n",
        "        x:     The batch of input data (must be compatible with `model`)\n",
        "        optimizer: The `tf.keras.optimizer` that shall be used for weight updates\n",
        "    Returns:\n",
        "        A tuple of (loss, sigmoid-scaled prediction)\n",
        "    '''\n",
        "    with tf.GradientTape() as tape:\n",
        "      loss = compute_loss(model, x)\n",
        "    gradients = tape.gradient(loss, model.trainable_variables)\n",
        "    optimizer.apply_gradients(zip(gradients, model.trainable_variables))\n",
        "    \n",
        "    return loss"
      ],
      "execution_count": null,
      "outputs": []
    },
    {
      "cell_type": "markdown",
      "metadata": {
        "id": "ZpkHEOMRdK4S"
      },
      "source": [
        "### 1.4 Train the VAE (4 points)\n",
        "Train your model for several epochs using the Adam optimizer. Reasonable hyperparameter choices to start with are:\n",
        "- learning rate `1e-4`\n",
        "- latent space dimension `32`\n",
        "- epochs `50`\n",
        "- batch size `128`\n",
        "\n",
        "Make sure to plot your training progress in the form of plotting training and validation loss (every epoch), as well as inspecting the actual reconstructions on both the train and validation dataset. You can use the `plot_orig_recon` and `plot_loss_curves` functions. Make sure to set the `clear_output` parameter to `True` for the first plot call in your code."
      ]
    },
    {
      "cell_type": "code",
      "metadata": {
        "id": "53TXLt_0hRR8"
      },
      "source": [
        "def plot_orig_recon(orig, recon, clear_output=False):\n",
        "    ''' Plot the original images (top) and reconstructed images (bottom) '''\n",
        "    fig = plt.figure(figsize=(30,6))\n",
        "    for i in range(10):\n",
        "        plt.subplot(2, 10, i+1)\n",
        "        plt.imshow(orig[i, :, :, 0], cmap='gray')\n",
        "        plt.axis('off')\n",
        "        plt.subplot(2, 10, i+11)\n",
        "        plt.imshow(recon[i, :, :, 0], cmap='gray')\n",
        "        plt.axis('off')\n",
        "    if clear_output: display.clear_output(wait=False)\n",
        "    plt.show()\n",
        "    \n",
        "def plot_loss_curves(t_loss, v_loss, clear_output=False):\n",
        "    ''' Plots the training and validation losses. '''\n",
        "    fig = plt.figure(figsize=(6,3))\n",
        "    plt.plot(t_loss, label='Train Loss')\n",
        "    plt.plot(v_loss, label='Valid Loss')\n",
        "    plt.legend(loc='upper right')\n",
        "    plt.title('Training vs. Validation Loss')\n",
        "    plt.xlabel('Epochs'); plt.ylabel('-ELBO')\n",
        "    if clear_output: display.clear_output(wait=False)\n",
        "    plt.show()"
      ],
      "execution_count": null,
      "outputs": []
    },
    {
      "cell_type": "code",
      "metadata": {
        "colab": {
          "base_uri": "https://localhost:8080/",
          "height": 411
        },
        "id": "PiOy1nvfGvo5",
        "outputId": "6d30bed9-cfff-4811-b9f2-fde9d7e0953a"
      },
      "source": [
        "epochs = 10\n",
        "latent_dim = 32\n",
        "batch_size=128\n",
        "\n",
        "# keeping the random vector constant for generation (prediction) so\n",
        "# it will be easier to see the improvement.\n",
        "train_dataset = (tf.data.Dataset.from_tensor_slices(train_images).shuffle(train_size).batch(batch_size))\n",
        "test_dataset = (tf.data.Dataset.from_tensor_slices(test_images).shuffle(test_size).batch(batch_size))\n",
        "\n",
        "#random_vector_for_generation = tf.random.normal(shape=[num_examples_to_generate, latent_dim])\n",
        "model = CVAE(latent_dim)\n",
        "#model.trainable_variables\n",
        "t_loss=[]\n",
        "v_loss = []\n",
        "for epoch in range(1, epochs + 1):\n",
        "  loss=0\n",
        "  start_time = time.time()\n",
        "  for train_x in train_dataset:\n",
        "    loss=train_step(model, train_x, optimizer)\n",
        "  end_time = time.time()\n",
        "  t_loss.append(loss)\n",
        "  \n",
        "  loss1=0\n",
        "  for test_x in test_dataset:\n",
        "    loss1=valid_step(model, test_x)\n",
        "  v_loss.append(loss1)\n",
        "  #plot_orig_recon(orig, recon, True)\n",
        "\n",
        "  print('Epoch: {}, time elapse for current epoch: {}'.format(epoch, end_time - start_time))\n",
        "plot_loss_curves(t_loss,v_loss,False)\n"
      ],
      "execution_count": null,
      "outputs": [
        {
          "output_type": "stream",
          "text": [
            "Epoch: 1, time elapse for current epoch: 3.9098334312438965\n",
            "Epoch: 2, time elapse for current epoch: 2.754230499267578\n",
            "Epoch: 3, time elapse for current epoch: 2.78669810295105\n",
            "Epoch: 4, time elapse for current epoch: 2.7913317680358887\n",
            "Epoch: 5, time elapse for current epoch: 2.796142339706421\n",
            "Epoch: 6, time elapse for current epoch: 2.8106470108032227\n",
            "Epoch: 7, time elapse for current epoch: 2.829833984375\n",
            "Epoch: 8, time elapse for current epoch: 2.8392081260681152\n",
            "Epoch: 9, time elapse for current epoch: 2.8352468013763428\n",
            "Epoch: 10, time elapse for current epoch: 2.8244612216949463\n"
          ],
          "name": "stdout"
        },
        {
          "output_type": "display_data",
          "data": {
            "image/png": "[encoded data removed]",
            "text/plain": [
              "<Figure size 432x216 with 1 Axes>"
            ]
          },
          "metadata": {
            "tags": [],
            "needs_background": "light"
          }
        }
      ]
    },
    {
      "cell_type": "markdown",
      "metadata": {
        "id": "rlgHThPghoCh"
      },
      "source": [
        "### 1.5 Generate some new digits (1 point)\n",
        "Plot a few newly generated images using your best parameters and random latent vectors."
      ]
    },
    {
      "cell_type": "code",
      "metadata": {
        "id": "YIbgOeVFimhP",
        "colab": {
          "base_uri": "https://localhost:8080/",
          "height": 453
        },
        "outputId": "4faf17e0-4d27-4772-d868-2f1506bb23a0"
      },
      "source": [
        "# set the dimensionality of the latent space to a plane for visualization later\n",
        "\n",
        "\n",
        "# keeping the random vector constant for generation (prediction) so\n",
        "# it will be easier to see the improvement.\n",
        "for test_batch in test_dataset.take(1):\n",
        "  test_sample = test_batch[0:num_examples_to_generate, :, :, :]\n",
        "\n",
        "mean, logvar = model.encode(test_sample)\n",
        "z = model.reparameterize(mean, logvar)\n",
        "predictions = model.sample(z)\n",
        "\n",
        "print(\"Comparison of Input and output of the model\")\n",
        "plot_orig_recon(test_sample,predictions,False)\n",
        "print(\"Comparison Using random vector\")\n",
        "ran=tf.random.normal(shape=(100, 32))\n",
        "plot_orig_recon(test_sample,model.sample(ran),False)"
      ],
      "execution_count": null,
      "outputs": [
        {
          "output_type": "stream",
          "text": [
            "Comparison of Input and output of the model\n"
          ],
          "name": "stdout"
        },
        {
          "output_type": "display_data",
          "data": {
            "image/png": "[encoded data removed]",
            "text/plain": [
              "<Figure size 2160x432 with 20 Axes>"
            ]
          },
          "metadata": {
            "tags": [],
            "needs_background": "light"
          }
        },
        {
          "output_type": "stream",
          "text": [
            "Comparison Using random vector\n"
          ],
          "name": "stdout"
        },
        {
          "output_type": "display_data",
          "data": {
            "image/png": "[encoded data removed]",
            "text/plain": [
              "<Figure size 2160x432 with 20 Axes>"
            ]
          },
          "metadata": {
            "tags": [],
            "needs_background": "light"
          }
        }
      ]
    },
    {
      "cell_type": "markdown",
      "metadata": {
        "id": "HckqIFJI8XJH"
      },
      "source": [
        "## Exercise 2: Generative Adversarial Networks (24 points)"
      ]
    },
    {
      "cell_type": "markdown",
      "metadata": {
        "id": "5JFbsFZTj7WI"
      },
      "source": [
        "### 1.1 Prepare the dataset (2 points)\n",
        "For the DCGAN, use the FashionMNIST dataset instead of normal MNIST. For the GAN you will only need to reshape the FashionMNIST data to `28x28x1` and normalize the images from $[0,255]$ to $[-1,1]$. Note that you won't need a validation set.\n",
        "\n",
        "**Hyperparameters:** Use a batch size of 256 on Colab."
      ]
    },
    {
      "cell_type": "code",
      "metadata": {
        "id": "pksJfoXL8RY5",
        "colab": {
          "base_uri": "https://localhost:8080/"
        },
        "outputId": "62bb9e90-e4d6-4ba7-e653-fc86c5e40881"
      },
      "source": [
        "(train_images, train_labels), (_, _) = tf.keras.datasets.fashion_mnist.load_data()\n",
        "train_images = train_images.reshape(train_images.shape[0], 28, 28, 1).astype('float32')\n",
        "train_images = (train_images - 127.5) / 127.5 # Normalize the images to [-1, 1]\n",
        "BUFFER_SIZE = 60000\n",
        "BATCH_SIZE = 256\n",
        "train_dataset = tf.data.Dataset.from_tensor_slices(train_images).shuffle(BUFFER_SIZE).batch(BATCH_SIZE)"
      ],
      "execution_count": null,
      "outputs": [
        {
          "output_type": "stream",
          "text": [
            "Downloading data from https://storage.googleapis.com/tensorflow/tf-keras-datasets/train-labels-idx1-ubyte.gz\n",
            "32768/29515 [=================================] - 0s 0us/step\n",
            "Downloading data from https://storage.googleapis.com/tensorflow/tf-keras-datasets/train-images-idx3-ubyte.gz\n",
            "26427392/26421880 [==============================] - 0s 0us/step\n",
            "Downloading data from https://storage.googleapis.com/tensorflow/tf-keras-datasets/t10k-labels-idx1-ubyte.gz\n",
            "8192/5148 [===============================================] - 0s 0us/step\n",
            "Downloading data from https://storage.googleapis.com/tensorflow/tf-keras-datasets/t10k-images-idx3-ubyte.gz\n",
            "4423680/4422102 [==============================] - 0s 0us/step\n"
          ],
          "name": "stdout"
        }
      ]
    },
    {
      "cell_type": "markdown",
      "metadata": {
        "id": "NO9SJAv7lBEY"
      },
      "source": [
        "### 1.2 Define the GAN model (8 points)\n",
        "**Generator:**\n",
        "Start with a fully connected layer from `latent_dim` inputs to `7*7*256` outputs. Reshape to a `7x7x256` image, then follow with three transpose convs (kernel size 5, padding same, no bias) with `128, 64, 1` output feature maps. Use BatchNorm and LeakyReLU between all parameterized layers. Lastly set the last convolutions activation function to $\\tanh{}$ to scale the output in the $[-1,1]$ range.\n",
        "\n",
        "**Discriminator:**\n",
        "Use two (Conv, LeakyReLU, Dropout) blocks, then add a fully connected layer to output a single number.\n",
        "\n",
        "**Hyperparameters:** Set `noise_dim=100`"
      ]
    },
    {
      "cell_type": "code",
      "metadata": {
        "id": "9JIj1cWKoYyB",
        "colab": {
          "base_uri": "https://localhost:8080/",
          "height": 281
        },
        "outputId": "d3355706-caf7-46e5-b4d2-f45b101ddbce"
      },
      "source": [
        "def make_generator_model():\n",
        "    model = tf.keras.Sequential()\n",
        "    model.add(layers.Dense(7*7*256, use_bias=False, input_shape=(100,)))\n",
        "    model.add(layers.BatchNormalization())\n",
        "    model.add(layers.LeakyReLU())\n",
        "\n",
        "    model.add(layers.Reshape((7, 7, 256)))\n",
        "    assert model.output_shape == (None, 7, 7, 256) # Note: None is the batch size\n",
        "\n",
        "    model.add(layers.Conv2DTranspose(128, (5, 5), strides=(1, 1), padding='same', use_bias=False))\n",
        "    assert model.output_shape == (None, 7, 7, 128)\n",
        "    model.add(layers.BatchNormalization())\n",
        "    model.add(layers.LeakyReLU())\n",
        "\n",
        "    model.add(layers.Conv2DTranspose(64, (5, 5), strides=(2, 2), padding='same', use_bias=False))\n",
        "    assert model.output_shape == (None, 14, 14, 64)\n",
        "    model.add(layers.BatchNormalization())\n",
        "    model.add(layers.LeakyReLU())\n",
        "\n",
        "    model.add(layers.Conv2DTranspose(1, (5, 5), strides=(2, 2), padding='same', use_bias=False, activation='tanh'))\n",
        "    assert model.output_shape == (None, 28, 28, 1)\n",
        "\n",
        "    return model\n",
        "\n",
        "noise_dim=100\n",
        "generator = make_generator_model()\n",
        "noise = tf.random.normal([1, 100])\n",
        "generated_image = generator(noise, training=False)\n",
        "plt.imshow(generated_image[0, :, :, 0], cmap='gray')\n",
        "\n",
        "\n",
        "def make_discriminator_model():\n",
        "    model = tf.keras.Sequential()\n",
        "    model.add(layers.Conv2D(64, (5, 5), strides=(2, 2), padding='same',\n",
        "                                     input_shape=[28, 28, 1]))\n",
        "    model.add(layers.LeakyReLU())\n",
        "    model.add(layers.Dropout(0.3))\n",
        "\n",
        "    model.add(layers.Conv2D(128, (5, 5), strides=(2, 2), padding='same'))\n",
        "    model.add(layers.LeakyReLU())\n",
        "    model.add(layers.Dropout(0.3))\n",
        "\n",
        "    model.add(layers.Flatten())\n",
        "    model.add(layers.Dense(1))\n",
        "\n",
        "    return model\n",
        "\n",
        "discriminator = make_discriminator_model()\n",
        "decision = discriminator(generated_image)\n",
        "print (decision)"
      ],
      "execution_count": null,
      "outputs": [
        {
          "output_type": "stream",
          "text": [
            "tf.Tensor([[-0.00055952]], shape=(1, 1), dtype=float32)\n"
          ],
          "name": "stdout"
        },
        {
          "output_type": "display_data",
          "data": {
            "image/png": "[encoded data removed]",
            "text/plain": [
              "<Figure size 432x288 with 1 Axes>"
            ]
          },
          "metadata": {
            "tags": [],
            "needs_background": "light"
          }
        }
      ]
    },
    {
      "cell_type": "markdown",
      "metadata": {
        "id": "8euHFyjloZB6"
      },
      "source": [
        "### 1.3 Define the losses and optimizers (4 points)\n",
        "Optimizing the discriminator loss sould make the model produce a `1` for real images and a `0` for fake images.\n",
        "Optimizing for the generator loss should make the model produce a `1` for fake images.\n",
        "Use binary cross entropy (from logits), just as you would in binary classification. The \"labels\" can be generated with `tf.ones_like` and `tf.zeros_like`.\n",
        "\n",
        "**Hyperparameters:** Use Adam for both the generator optimizer and discriminator optimizer. `1e-4` is a reasonable learning rate."
      ]
    },
    {
      "cell_type": "code",
      "metadata": {
        "id": "EEYsqm5jopVO"
      },
      "source": [
        "cross_entropy = tf.keras.losses.BinaryCrossentropy(from_logits=True)\n",
        "def discriminator_loss(real_output, fake_output):\n",
        "    ''' Computes the discriminator loss from the discriminator's output for real images (`real_output`) and fake images (`fake_output`) '''\n",
        "    real_loss = cross_entropy(tf.ones_like(real_output), real_output)\n",
        "    fake_loss = cross_entropy(tf.zeros_like(fake_output), fake_output)\n",
        "    total_loss = real_loss + fake_loss\n",
        "    return total_loss\n",
        "\n",
        "def generator_loss(fake_output):\n",
        "    ''' Computes the generator loss from the discriminator's output for fake images (`fake_output`) '''\n",
        "    return cross_entropy(tf.ones_like(fake_output), fake_output)\n",
        "\n",
        "generator_optimizer = tf.keras.optimizers.Adam(1e-4)\n",
        "discriminator_optimizer = tf.keras.optimizers.Adam(1e-4)\n"
      ],
      "execution_count": null,
      "outputs": []
    },
    {
      "cell_type": "markdown",
      "metadata": {
        "id": "unBYnFNcqEQ6"
      },
      "source": [
        "### 1.4 Define the training step and training loop (10 points)\n",
        "As before, fill in the `train_step` method below. One training step shall include a step for both the generator and the discriminator. \n",
        "Tip: You will have to use two gradient tapes or a persistent gradient tape to get gradients from both generator loss and discriminator loss.\n",
        "\n",
        "\n",
        "Then define a training loop which plots a set of generated images every epoch to keep track of the GAN's progress (use `generate_and_show_images`).\n",
        "\n",
        "Train your model for around 50 epochs or until you get reasonable generated images."
      ]
    },
    {
      "cell_type": "code",
      "metadata": {
        "id": "uyQJB8pfrQKy",
        "colab": {
          "base_uri": "https://localhost:8080/",
          "height": 901
        },
        "outputId": "1b835800-7db7-49e0-e7e9-a3c195f9238b"
      },
      "source": [
        "def generate_and_show_images(model, test_input):\n",
        "    ''' Generates and plots images using the generator `model` and its latent vector input `test_input`    \n",
        "    Args:\n",
        "        model (tf.keras.Model): The generator model\n",
        "        test_input: The batch of latent vectors to be fed in the generator\n",
        "    '''\n",
        "    # Notice `training` is set to False.\n",
        "    # This is so all layers run in inference mode (batchnorm).\n",
        "    predictions = model(test_input, training=False)\n",
        "\n",
        "    fig = plt.figure(figsize=(16,16))\n",
        "    for i in range(predictions.shape[0]):\n",
        "        plt.subplot(4, 4, i+1)\n",
        "        plt.imshow(predictions[i, :, :, 0] * 127.5 + 127.5, cmap='gray')\n",
        "        plt.axis('off')\n",
        "    plt.show()\n",
        "\n",
        "@tf.function\n",
        "def train_step(real_images):\n",
        "    ''' Performs a full training step for both generator and discriminator.\n",
        "    Args:\n",
        "        real_images: Batch of real images from the dataset\n",
        "     '''\n",
        "    noise = tf.random.normal([BATCH_SIZE, noise_dim])\n",
        "\n",
        "    with tf.GradientTape() as gen_tape, tf.GradientTape() as disc_tape:\n",
        "      generated_images = generator(noise, training=True)\n",
        "      \n",
        "      real_output = discriminator(real_images, training=True)\n",
        "      fake_output = discriminator(generated_images, training=True)\n",
        "      \n",
        "      gen_loss = generator_loss(fake_output)\n",
        "      disc_loss = discriminator_loss(real_output, fake_output)\n",
        "\n",
        "    \n",
        "    gradients_of_generator = gen_tape.gradient(gen_loss, generator.trainable_variables)\n",
        "    gradients_of_discriminator = disc_tape.gradient(disc_loss, discriminator.trainable_variables)\n",
        "\n",
        "    \n",
        "    generator_optimizer.apply_gradients(zip(gradients_of_generator, generator.trainable_variables))\n",
        "    discriminator_optimizer.apply_gradients(zip(gradients_of_discriminator, discriminator.trainable_variables))\n",
        "    \n",
        "\n",
        "#random input for the generator\n",
        "seed = tf.random.normal([16, noise_dim])\n",
        "for epoch in range(50):\n",
        "  start = time.time()\n",
        "\n",
        "  for image_batch in train_dataset:\n",
        "    train_step(image_batch)\n",
        "\n",
        "  # Produce images for the GIF as we go\n",
        "  display.clear_output(wait=True)\n",
        "  generate_and_show_images(generator,seed)\n",
        "\n",
        "  print ('Time for epoch {} is {} sec'.format(epoch + 1, time.time()-start))\n",
        "\n",
        "# Generate after the final epoch\n",
        "display.clear_output(wait=True)\n",
        "generate_and_show_images(generator,seed)"
      ],
      "execution_count": null,
      "outputs": [
        {
          "output_type": "display_data",
          "data": {
            "image/png": "[encoded data removed]",
            "text/plain": [
              "<Figure size 1152x1152 with 16 Axes>"
            ]
          },
          "metadata": {
            "tags": [],
            "needs_background": "light"
          }
        }
      ]
    }
  ]
}